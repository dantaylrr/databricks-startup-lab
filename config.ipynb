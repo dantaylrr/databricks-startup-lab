{
 "cells": [
  {
   "cell_type": "code",
   "execution_count": null,
   "metadata": {
    "vscode": {
     "languageId": "plaintext"
    }
   },
   "outputs": [],
   "source": [
    "%md \n",
    "## Configuration file\n",
    "\n",
    "Please change your catalog and schema here to run the demo on a different catalog."
   ]
  },
  {
   "cell_type": "code",
   "execution_count": null,
   "metadata": {
    "vscode": {
     "languageId": "plaintext"
    }
   },
   "outputs": [],
   "source": [
    "# Specify the catalog and schema that you want to work under\n",
    "\n",
    "catalog = \"main\"\n",
    "schema = dbName = db = \"retail_c360\"\n",
    "\n",
    "volume_name = \"c360\""
   ]
  }
 ],
 "metadata": {
  "language_info": {
   "name": "python"
  }
 },
 "nbformat": 4,
 "nbformat_minor": 2
}
