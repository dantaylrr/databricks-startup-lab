{
 "cells": [
  {
   "cell_type": "code",
   "execution_count": null,
   "metadata": {
    "vscode": {
     "languageId": "plaintext"
    }
   },
   "outputs": [],
   "source": [
    "%md \n",
    "## Lab setup notebook\n",
    "\n",
    "This notebook will create both the catalog & schema that you have specified in `./config` if it hasn't already been created.\n",
    "\n",
    "Once done, it will then download the lab data from [github](https://github.com/databricks-demos/dbdemos-dataset/tree/main/retail/c360) & set it up as a Unity Catalog volume under the schema of choice."
   ]
  },
  {
   "cell_type": "code",
   "execution_count": null,
   "metadata": {
    "vscode": {
     "languageId": "plaintext"
    }
   },
   "outputs": [],
   "source": [
    "%run ./_setup/02-load-data"
   ]
  }
 ],
 "metadata": {
  "language_info": {
   "name": "python"
  }
 },
 "nbformat": 4,
 "nbformat_minor": 2
}
